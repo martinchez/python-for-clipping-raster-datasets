{
 "cells": [
  {
   "cell_type": "code",
   "execution_count": 5,
   "metadata": {},
   "outputs": [],
   "source": [
    "from osgeo import gdal\n",
    "import os"
   ]
  },
  {
   "cell_type": "code",
   "execution_count": 8,
   "metadata": {},
   "outputs": [
    {
     "data": {
      "text/plain": [
       "['LC08_L1TP_169060_20180512_20180517_01_T1_B1.TIF',\n",
       " 'LC08_L1TP_169060_20180512_20180517_01_T1_B10.TIF',\n",
       " 'LC08_L1TP_169060_20180512_20180517_01_T1_B11.TIF',\n",
       " 'LC08_L1TP_169060_20180512_20180517_01_T1_B2.TIF',\n",
       " 'LC08_L1TP_169060_20180512_20180517_01_T1_B3.TIF',\n",
       " 'LC08_L1TP_169060_20180512_20180517_01_T1_B4.TIF',\n",
       " 'LC08_L1TP_169060_20180512_20180517_01_T1_B5.TIF',\n",
       " 'LC08_L1TP_169060_20180512_20180517_01_T1_B6.TIF',\n",
       " 'LC08_L1TP_169060_20180512_20180517_01_T1_B7.TIF',\n",
       " 'LC08_L1TP_169060_20180512_20180517_01_T1_B8.TIF',\n",
       " 'LC08_L1TP_169060_20180512_20180517_01_T1_B9.TIF']"
      ]
     },
     "execution_count": 8,
     "metadata": {},
     "output_type": "execute_result"
    }
   ],
   "source": [
    "inputpath='input/'\n",
    "outputpath='output/'\n",
    "bandlist=[band for band in os.listdir(inputpath) if band[-4:]=='.TIF' ]\n",
    "bandlist"
   ]
  },
  {
   "cell_type": "code",
   "execution_count": 9,
   "metadata": {},
   "outputs": [],
   "source": [
    "shp_clip='rongai.shp'"
   ]
  },
  {
   "cell_type": "code",
   "execution_count": 14,
   "metadata": {},
   "outputs": [
    {
     "name": "stdout",
     "output_type": "stream",
     "text": [
      "output/LC08_L1TP_169060_20180512_20180517_01_T1_B1_c2.TIF\n",
      "output/LC08_L1TP_169060_20180512_20180517_01_T1_B10_c2.TIF\n",
      "output/LC08_L1TP_169060_20180512_20180517_01_T1_B11_c2.TIF\n",
      "output/LC08_L1TP_169060_20180512_20180517_01_T1_B2_c2.TIF\n",
      "output/LC08_L1TP_169060_20180512_20180517_01_T1_B3_c2.TIF\n",
      "output/LC08_L1TP_169060_20180512_20180517_01_T1_B4_c2.TIF\n",
      "output/LC08_L1TP_169060_20180512_20180517_01_T1_B5_c2.TIF\n",
      "output/LC08_L1TP_169060_20180512_20180517_01_T1_B6_c2.TIF\n",
      "output/LC08_L1TP_169060_20180512_20180517_01_T1_B7_c2.TIF\n",
      "output/LC08_L1TP_169060_20180512_20180517_01_T1_B8_c2.TIF\n",
      "output/LC08_L1TP_169060_20180512_20180517_01_T1_B9_c2.TIF\n"
     ]
    }
   ],
   "source": [
    "for band in bandlist:\n",
    "    print(outputpath + band[:-4]+'_c2'+band[-4:])\n",
    "    options = gdal.WarpOptions(cutlineDSName=shp_clip,cropToCutline=True)\n",
    "    outBand = gdal.Warp(srcDSOrSrcDSTab=inputpath + band,\n",
    "                        destNameOrDestDS=outputpath + band[:-4]+'_c2'+band[-4:],\n",
    "                        options=options)\n",
    "    outBand= None"
   ]
  },
  {
   "cell_type": "code",
   "execution_count": null,
   "metadata": {},
   "outputs": [],
   "source": []
  }
 ],
 "metadata": {
  "kernelspec": {
   "display_name": "Python 3",
   "language": "python",
   "name": "python3"
  },
  "language_info": {
   "codemirror_mode": {
    "name": "ipython",
    "version": 3
   },
   "file_extension": ".py",
   "mimetype": "text/x-python",
   "name": "python",
   "nbconvert_exporter": "python",
   "pygments_lexer": "ipython3",
   "version": "3.7.3"
  }
 },
 "nbformat": 4,
 "nbformat_minor": 2
}
